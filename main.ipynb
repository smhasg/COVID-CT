{
 "cells": [
  {
   "cell_type": "code",
   "execution_count": 1,
   "metadata": {},
   "outputs": [],
   "source": [
    "# !pip install tensorflow -U\n",
    "#!pip install opencv-python\n",
    "# !pip install tensorflow"
   ]
  },
  {
   "cell_type": "code",
   "execution_count": 1,
   "metadata": {
    "scrolled": true
   },
   "outputs": [],
   "source": [
    "import numpy as np \n",
    "import pandas as pd\n",
    "\n",
    "import matplotlib.pyplot as plt \n",
    "import seaborn as sns \n",
    "import cv2\n",
    "import os  \n",
    "# import tensorflow.keras as keras \n",
    "\n",
    "# from opencv import cv2\n"
   ]
  },
  {
   "cell_type": "markdown",
   "metadata": {},
   "source": [
    "# input data "
   ]
  },
  {
   "cell_type": "code",
   "execution_count": 2,
   "metadata": {},
   "outputs": [],
   "source": [
    "# !pip install scipy -U"
   ]
  },
  {
   "cell_type": "code",
   "execution_count": 2,
   "metadata": {},
   "outputs": [],
   "source": [
    "# read DS2 masks \n",
    "import matplotlib.pyplot as plt\n",
    "import numpy as np\n",
    "from PIL import Image\n",
    "import pandas as pd \n",
    "\n",
    "# cdf = pd.DataFrame( )\n",
    "train_img  ,mask_img,val_img = [] , [], [] \n",
    "\n",
    "root_dir = \"/home/smhasg/Desktop/projects/COIVD19/myproject/DS2/\"\n",
    "train_dir = \"/home/smhasg/Desktop/projects/COIVD19/myproject/DS2/tr_im/\"\n",
    "mask_dir = '/home/smhasg/Desktop/projects/COIVD19/myproject/DS2/tr_mask/'\n",
    "val_dir = \"/home/smhasg/Desktop/projects/COIVD19/myproject/DS2/val_im/\"\n",
    "\n",
    "paths = [train_dir,mask_dir,val_dir] \n",
    "\n",
    "for image in os.listdir(train_dir):\n",
    "    # print (image)\n",
    "    if image.endswith(\".jpg\"):\n",
    "        img =  cv2.imread(f\"{train_dir}/{image}\")\n",
    "        train_img.append(img)\n",
    "\n",
    "for image in os.listdir(mask_dir):\n",
    "    # print (image)\n",
    "    if image.endswith(\".jpg\"):\n",
    "        img =  cv2.imread(f\"{mask_dir}/{image}\")\n",
    "        mask_img.append(img)\n",
    "\n",
    "for image in os.listdir(val_dir):\n",
    "    # print (image)\n",
    "    if image.endswith(\".jpg\"):\n",
    "        img =  cv2.imread(f\"{val_dir}/{image}\")\n",
    "        val_img.append(img)\n",
    "\n",
    "\n",
    "\n",
    "\n"
   ]
  },
  {
   "cell_type": "code",
   "execution_count": 3,
   "metadata": {},
   "outputs": [
    {
     "data": {
      "text/plain": [
       "100"
      ]
     },
     "execution_count": 3,
     "metadata": {},
     "output_type": "execute_result"
    },
    {
     "data": {
      "image/png": "[encoded data removed]",
      "text/plain": [
       "<Figure size 432x288 with 1 Axes>"
      ]
     },
     "metadata": {
      "needs_background": "light"
     },
     "output_type": "display_data"
    }
   ],
   "source": [
    "plt.imshow(mask_img[1])\n",
    "len(mask_img)"
   ]
  },
  {
   "cell_type": "code",
   "execution_count": 4,
   "metadata": {},
   "outputs": [
    {
     "data": {
      "text/plain": [
       "dtype('float32')"
      ]
     },
     "execution_count": 4,
     "metadata": {},
     "output_type": "execute_result"
    }
   ],
   "source": [
    "train_img = np.array(train_img)\n",
    "train_img = train_img/255 \n",
    "train_img = train_img.astype(np.float32)\n",
    "type(train_img)\n",
    "train_img.dtype\n",
    "train_img.shape\n",
    "\n",
    "mask_img = np.array(mask_img)\n",
    "mask_img = mask_img/255 \n",
    "mask_img = mask_img.astype(np.float32)\n",
    "type(mask_img)\n",
    "mask_img.shape\n",
    "mask_img.dtype\n",
    "\n",
    "val_img = np.array(val_img)\n",
    "val_img = val_img /255 \n",
    "val_img = val_img.astype(np.float32)\n",
    "type(val_img)\n",
    "val_img.shape\n",
    "val_img.dtype\n"
   ]
  },
  {
   "cell_type": "code",
   "execution_count": 12,
   "metadata": {},
   "outputs": [],
   "source": [
    "# # read DS1\n",
    "\n",
    "# # Get the file paths\n",
    "# covid_img ,noncovid_img= [], [] \n",
    "\n",
    "# root_dir = \"/home/smhasg/Desktop/projects/COIVD19/myproject/DS1/Images-processed\"\n",
    "# covid_dir = \"/home/smhasg/Desktop/projects/COIVD19/myproject/DS1/Images-processed/CT_COVID/\"\n",
    "# noncovid_dir = '/home/smhasg/Desktop/projects/COIVD19/myproject/DS1/Images-processed/CT_NonCOVID/'\n",
    "\n",
    "# paths = [covid_dir,noncovid_dir] \n",
    "\n",
    "# for image in os.listdir(covid_dir):\n",
    "#     # print (image)\n",
    "#     if image.endswith(\".png\"):\n",
    "#         img =  cv2.imread(f\"{covid_dir}/{image}\")\n",
    "#         covid_img.append(img)\n",
    "\n",
    "# for image in os.listdir(noncovid_dir):\n",
    "#     # print (image)\n",
    "#     if image.endswith(\".png\"):\n",
    "#         img =  cv2.imread(f\"{noncovid_dir}/{image}\")\n",
    "#         noncovid_img.append(img)\n",
    "\n",
    "\n",
    "# covid_img_size = 0\n",
    "# for i in covid_img :\n",
    "#      # print(i.shape)\n",
    "#      covid_img_size+=1\n",
    "# print(f'covid_img_size : {covid_img_size}')\n",
    "\n",
    "# noncovid_img_size = 0\n",
    "# for i in noncovid_img :\n",
    "#      # print(i.shape)\n",
    "#      noncovid_img_size+=1\n",
    "# print(f'noncovid_img_size : {noncovid_img_size}')\n",
    "\n",
    "\n"
   ]
  },
  {
   "cell_type": "code",
   "execution_count": 11,
   "metadata": {},
   "outputs": [],
   "source": [
    "# plt.imshow(covid_img[1])\n",
    "# plt.imshow(noncovid_img[1])"
   ]
  },
  {
   "cell_type": "code",
   "execution_count": 10,
   "metadata": {},
   "outputs": [],
   "source": [
    "# for i in range(len(covid_img)):\n",
    "#      print(covid_img[i].shape)"
   ]
  },
  {
   "cell_type": "code",
   "execution_count": 31,
   "metadata": {},
   "outputs": [],
   "source": [
    "# # alter native for image read \n",
    "# from PIL import Image\n",
    "# from numpy import asarray\n",
    "# import os \n",
    "# import numpy as np \n",
    "# from tqdm import tqdm\n",
    "\n",
    "# root_path = '/home/smhasg/Desktop/projects/COIVD19/myproject/DS1/Images-processed/'\n",
    "# # read data and concatenate\n",
    "# labels = []\n",
    "\n",
    "# def read_data():\n",
    "#   os.chdir(root_path)\n",
    "#   sub_dirs = os.listdir()\n",
    "#   result = []\n",
    "#   for path in sub_dirs:\n",
    "#     images = []\n",
    "#     sub_dir = os.path.join(root_path, path)\n",
    "#     os.chdir(sub_dir)\n",
    "#     list_of_files = os.listdir()\n",
    "#     for i in tqdm(list_of_files):\n",
    "#       tmp = Image.open(i)\n",
    "#      # tmp = cv2.resize(tmp, (128, 128))\n",
    "#      #  if len(tmp.shape) > 2:\n",
    "#      #      tmp = tmp[:,:,0]\n",
    "#      #  else:\n",
    "#       tmp = tmp\n",
    "      \n",
    "#       images.append(tmp)\n",
    "#       # np.array(images, tmp )\n",
    "\n",
    "#     result.append(images)\n",
    "#   im = np.asarray(images)\n",
    "#   return result\n",
    "# # load the image\n",
    "\n",
    "# # image = Image.open('kolala.jpeg')\n"
   ]
  },
  {
   "cell_type": "code",
   "execution_count": 6,
   "metadata": {},
   "outputs": [],
   "source": [
    "# #alternative for im read \n",
    "# import matplotlib.pyplot as plt \n",
    "# os.chdir(root_path)\n",
    "# sub_dirs = os.listdir()64\n",
    "# for path in sub_dirs:\n",
    "#   labels.append(path)\n",
    "#   sub_dir = os.path.join(root_path, path)\n",
    "#   os.chdir(sub_dir)\n",
    "#   img = [] \n",
    "  \n",
    "#   plt.figure(figsize=(10, 10))\n",
    "#   ii = 1\n",
    "#   for i in os.listdir()[:5]:\n",
    "#     tmp = Image.open(i)\n",
    "#     plt.subplot(1, 5, ii)\n",
    "#     plt.imshow(tmp, cmap='binary')\n",
    "#     plt.title(i)\n",
    "#     ii += 1\n",
    "  \n",
    "# plt.show()"
   ]
  },
  {
   "cell_type": "markdown",
   "metadata": {},
   "source": [
    "# encoder \n"
   ]
  },
  {
   "cell_type": "code",
   "execution_count": 5,
   "metadata": {},
   "outputs": [
    {
     "name": "stderr",
     "output_type": "stream",
     "text": [
      "2023-02-09 00:31:51.068401: W tensorflow/compiler/xla/stream_executor/platform/default/dso_loader.cc:64] Could not load dynamic library 'libcudart.so.11.0'; dlerror: libcudart.so.11.0: cannot open shared object file: No such file or directory; LD_LIBRARY_PATH: /home/smhasg/.local/lib/python3.10/site-packages/cv2/../../lib64:\n",
      "2023-02-09 00:31:51.068459: I tensorflow/compiler/xla/stream_executor/cuda/cudart_stub.cc:29] Ignore above cudart dlerror if you do not have a GPU set up on your machine.\n",
      "2023-02-09 00:31:53.331007: W tensorflow/compiler/xla/stream_executor/platform/default/dso_loader.cc:64] Could not load dynamic library 'libnvinfer.so.7'; dlerror: libnvinfer.so.7: cannot open shared object file: No such file or directory; LD_LIBRARY_PATH: /home/smhasg/.local/lib/python3.10/site-packages/cv2/../../lib64:\n",
      "2023-02-09 00:31:53.331378: W tensorflow/compiler/xla/stream_executor/platform/default/dso_loader.cc:64] Could not load dynamic library 'libnvinfer_plugin.so.7'; dlerror: libnvinfer_plugin.so.7: cannot open shared object file: No such file or directory; LD_LIBRARY_PATH: /home/smhasg/.local/lib/python3.10/site-packages/cv2/../../lib64:\n",
      "2023-02-09 00:31:53.331403: W tensorflow/compiler/tf2tensorrt/utils/py_utils.cc:38] TF-TRT Warning: Cannot dlopen some TensorRT libraries. If you would like to use Nvidia GPU with TensorRT, please make sure the missing libraries mentioned above are installed properly.\n"
     ]
    }
   ],
   "source": [
    "from tensorflow import keras \n",
    "# input = keras.layers.Input(shape=(512, 512,3))"
   ]
  },
  {
   "cell_type": "code",
   "execution_count": 8,
   "metadata": {},
   "outputs": [],
   "source": [
    "# # for i in covid_img:\n",
    "# # covid_img = np.array(covid_img)\n",
    "#      #print(type(i))\n",
    "# plt.imshow(covid_img[2])\n",
    "# type(covid_img)\n",
    "# covid_img.shape"
   ]
  },
  {
   "cell_type": "code",
   "execution_count": 6,
   "metadata": {},
   "outputs": [
    {
     "name": "stderr",
     "output_type": "stream",
     "text": [
      "2023-02-09 00:32:02.061349: W tensorflow/compiler/xla/stream_executor/platform/default/dso_loader.cc:64] Could not load dynamic library 'libcuda.so.1'; dlerror: libcuda.so.1: cannot open shared object file: No such file or directory; LD_LIBRARY_PATH: /home/smhasg/.local/lib/python3.10/site-packages/cv2/../../lib64:\n",
      "2023-02-09 00:32:02.063105: W tensorflow/compiler/xla/stream_executor/cuda/cuda_driver.cc:265] failed call to cuInit: UNKNOWN ERROR (303)\n",
      "2023-02-09 00:32:02.063191: I tensorflow/compiler/xla/stream_executor/cuda/cuda_diagnostics.cc:156] kernel driver does not appear to be running on this host (smhasg-comp): /proc/driver/nvidia/version does not exist\n",
      "2023-02-09 00:32:02.141755: W tensorflow/tsl/framework/cpu_allocator_impl.cc:82] Allocation of 314572800 exceeds 10% of free system memory.\n",
      "2023-02-09 00:32:02.383382: W tensorflow/tsl/framework/cpu_allocator_impl.cc:82] Allocation of 6710886400 exceeds 10% of free system memory.\n"
     ]
    }
   ],
   "source": [
    "# my model \n",
    "\n",
    "import tensorflow as tf\n",
    "from tensorflow.keras import datasets, layers, models\n",
    "\n",
    "tf.keras.backend.clear_session()\n",
    "input = keras.layers.Input(shape=train_img.shape)\n",
    "# encoder 14 layers  \n",
    "\n",
    "encoder = models.Sequential()\n",
    "\n",
    "encoder.add(layers.Conv2D(filters=64, kernel_size=(3, 3), activation='relu', input_shape=train_img.shape[1:], padding='same')(train_img))\n",
    "encoder.add(layers.Conv2D(filters=64, kernel_size=(3, 3), activation='relu', padding='same'))\n",
    "# encoder.add(layers.Conv2D(filters=64, kernel_size=(3, 3), activation='relu', padding='same'))\n",
    "encoder.add(keras.layers.MaxPooling2D((2, 2), padding=\"same\"))\n",
    "encoder.add(layers.Conv2D(filters=128, kernel_size=(3, 3), activation='relu', padding='same'))\n",
    "encoder.add(layers.Conv2D(filters=128, kernel_size=(3, 3), activation='relu', padding='same'))\n",
    "encoder.add(keras.layers.MaxPooling2D((2, 2), padding=\"same\"))\n",
    "encoder.add(layers.Conv2D(filters=256, kernel_size=(3, 3), activation='relu', padding='same'))\n",
    "encoder.add(layers.Conv2D(filters=256, kernel_size=(3, 3), activation='relu', padding='same'))\n",
    "encoder.add(keras.layers.MaxPooling2D((2, 2), padding=\"same\"))\n",
    "encoder.add(layers.Conv2D(filters=512, kernel_size=(3, 3), activation='relu', padding='same'))\n",
    "encoder.add(layers.Conv2D(filters=512, kernel_size=(3, 3), activation='relu', padding='same'))\n",
    "encoder.add(keras.layers.MaxPooling2D((2, 2), padding=\"same\"))\n",
    "encoder.add(layers.Conv2D(filters=1024, kernel_size=(3, 3), activation='relu', padding='same'))\n",
    "encoder.add(layers.Conv2D(filters=1024, kernel_size=(3, 3), activation='relu', padding='same'))\n",
    "encoder.add(layers.Conv2D(filters= 3, kernel_size=(1, 1), activation='sigmoid', padding='same')) # filters= mask_img.shape[-1]\n",
    "#sample decoder \n",
    "# encoder.add(keras.layers.Conv2D(1,(1,1)))\n",
    "# encoder.add(keras.layers.Conv2D(512,(1,1)))\n",
    "\n",
    "\n",
    "# x = keras.layers.Conv2D(512,(3, 3), activation=\"relu\", padding=\"same\")(input)\n",
    "# x = keras.layers.Conv2D(512, (3, 3), activation=\"relu\", padding=\"same\")(x)\n",
    "# x = keras.layers.MaxPooling2D((2, 2), padding=\"same\")(x)\n",
    "# x = keras.layers.Conv2DTranspose(256, (3, 3), activation=\"relu\", padding=\"same\")(x)\n",
    "# x = keras.layers.Conv2D(256, (3, 3), activation=\"relu\", padding=\"same\")(x)\n",
    "# x = keras.layers.MaxPooling2D((2, 2), padding=\"same\")(x)\n",
    "# x = keras.layers.Conv2DTranspose(128, (3, 3), activation=\"relu\", padding=\"same\")(x)\n",
    "# x = keras.layers.Conv2D(128, (3, 3), activation=\"relu\", padding=\"same\")(x)\n",
    "# x = keras.layers.MaxPooling2D((2, 2), padding=\"same\")(x)\n",
    "# x = keras.layers.Conv2DTranspose(64, (3, 3), activation=\"relu\", padding=\"same\")(x)\n",
    "# x = keras.layers.Conv2D(32, (3, 3), activation=\"relu\", padding=\"same\")(x)\n",
    "# x = keras.layers.MaxPooling2D((2, 2), padding=\"same\")(x)\n",
    "# x = keras.layers.Conv2DTranspose(16, (3, 3), activation=\"relu\", padding=\"same\")(x)\n",
    "# x = keras.layers.Conv2D(1, (3, 3), activation=\"relu\", padding=\"same\")(x)\n",
    "# x= keras.layers.Flatten(x)\n",
    "# upsampling  \n",
    "#.\n",
    "#.\n",
    "#.\n",
    "#.\n",
    "\n",
    "\n",
    "# reconstructor 14 layers \n",
    " \n",
    "# x = keras.layers.Conv2DTranspose(16, (3, 3), strides=2, activation=\"relu\", padding=\"same\")(x)\n",
    "# x = keras.layers.Conv2DTranspose(16, (3, 3), strides=2, activation=\"relu\", padding=\"same\")(x)\n",
    "# x = keras.layers.Conv2D(1, (3, 3), activation=\"sigmoid\", padding=\"same\")(x)\n",
    "\n",
    "# segmentation 14 layers  \n",
    "#.\n",
    "#.\n",
    "#.\n",
    "#.\n",
    "\n",
    "#  classification 14 layers  \n"
   ]
  },
  {
   "cell_type": "code",
   "execution_count": 40,
   "metadata": {},
   "outputs": [
    {
     "name": "stdout",
     "output_type": "stream",
     "text": [
      "Model: \"sequential\"\n",
      "_________________________________________________________________\n",
      " Layer (type)                Output Shape              Param #   \n",
      "=================================================================\n",
      " conv2d (Conv2D)             (None, 512, 512, 64)      1792      \n",
      "                                                                 \n",
      " conv2d_1 (Conv2D)           (None, 512, 512, 64)      36928     \n",
      "                                                                 \n",
      " max_pooling2d (MaxPooling2D  (None, 256, 256, 64)     0         \n",
      " )                                                               \n",
      "                                                                 \n",
      " conv2d_2 (Conv2D)           (None, 256, 256, 128)     73856     \n",
      "                                                                 \n",
      " conv2d_3 (Conv2D)           (None, 256, 256, 128)     147584    \n",
      "                                                                 \n",
      " max_pooling2d_1 (MaxPooling  (None, 128, 128, 128)    0         \n",
      " 2D)                                                             \n",
      "                                                                 \n",
      " conv2d_4 (Conv2D)           (None, 128, 128, 256)     295168    \n",
      "                                                                 \n",
      " conv2d_5 (Conv2D)           (None, 128, 128, 256)     590080    \n",
      "                                                                 \n",
      " max_pooling2d_2 (MaxPooling  (None, 64, 64, 256)      0         \n",
      " 2D)                                                             \n",
      "                                                                 \n",
      " conv2d_6 (Conv2D)           (None, 64, 64, 512)       1180160   \n",
      "                                                                 \n",
      " conv2d_7 (Conv2D)           (None, 64, 64, 512)       2359808   \n",
      "                                                                 \n",
      " max_pooling2d_3 (MaxPooling  (None, 32, 32, 512)      0         \n",
      " 2D)                                                             \n",
      "                                                                 \n",
      " conv2d_8 (Conv2D)           (None, 32, 32, 1024)      4719616   \n",
      "                                                                 \n",
      " conv2d_9 (Conv2D)           (None, 32, 32, 1024)      9438208   \n",
      "                                                                 \n",
      " conv2d_10 (Conv2D)          (None, 32, 32, 3)         3075      \n",
      "                                                                 \n",
      "=================================================================\n",
      "Total params: 18,846,275\n",
      "Trainable params: 18,846,275\n",
      "Non-trainable params: 0\n",
      "_________________________________________________________________\n"
     ]
    }
   ],
   "source": [
    "encoder.summary()"
   ]
  },
  {
   "cell_type": "code",
   "execution_count": 41,
   "metadata": {},
   "outputs": [],
   "source": [
    "# a simple unet model \n",
    "# keras."
   ]
  },
  {
   "cell_type": "code",
   "execution_count": 42,
   "metadata": {},
   "outputs": [],
   "source": [
    "encoder.compile( optimizer='adam',\n",
    "              loss=tf.keras.losses.BinaryCrossentropy(),\n",
    "              metrics=[tf.keras.metrics.BinaryAccuracy(),\n",
    "                       tf.keras.metrics.Recall(),\n",
    "                       tf.keras.metrics.Precision()]\n",
    ")\n"
   ]
  },
  {
   "cell_type": "code",
   "execution_count": 43,
   "metadata": {},
   "outputs": [
    {
     "name": "stdout",
     "output_type": "stream",
     "text": [
      "Epoch 1/20\n"
     ]
    },
    {
     "name": "stderr",
     "output_type": "stream",
     "text": [
      "2023-02-09 00:26:33.297562: W tensorflow/tsl/framework/cpu_allocator_impl.cc:82] Allocation of 314572800 exceeds 10% of free system memory.\n"
     ]
    },
    {
     "ename": "ValueError",
     "evalue": "in user code:\n\n    File \"/home/smhasg/.local/lib/python3.10/site-packages/keras/engine/training.py\", line 1249, in train_function  *\n        return step_function(self, iterator)\n    File \"/home/smhasg/.local/lib/python3.10/site-packages/keras/engine/training.py\", line 1233, in step_function  **\n        outputs = model.distribute_strategy.run(run_step, args=(data,))\n    File \"/home/smhasg/.local/lib/python3.10/site-packages/keras/engine/training.py\", line 1222, in run_step  **\n        outputs = model.train_step(data)\n    File \"/home/smhasg/.local/lib/python3.10/site-packages/keras/engine/training.py\", line 1024, in train_step\n        loss = self.compute_loss(x, y, y_pred, sample_weight)\n    File \"/home/smhasg/.local/lib/python3.10/site-packages/keras/engine/training.py\", line 1082, in compute_loss\n        return self.compiled_loss(\n    File \"/home/smhasg/.local/lib/python3.10/site-packages/keras/engine/compile_utils.py\", line 265, in __call__\n        loss_value = loss_obj(y_t, y_p, sample_weight=sw)\n    File \"/home/smhasg/.local/lib/python3.10/site-packages/keras/losses.py\", line 152, in __call__\n        losses = call_fn(y_true, y_pred)\n    File \"/home/smhasg/.local/lib/python3.10/site-packages/keras/losses.py\", line 284, in call  **\n        return ag_fn(y_true, y_pred, **self._fn_kwargs)\n    File \"/home/smhasg/.local/lib/python3.10/site-packages/keras/losses.py\", line 2176, in binary_crossentropy\n        backend.binary_crossentropy(y_true, y_pred, from_logits=from_logits),\n    File \"/home/smhasg/.local/lib/python3.10/site-packages/keras/backend.py\", line 5680, in binary_crossentropy\n        return tf.nn.sigmoid_cross_entropy_with_logits(\n\n    ValueError: `logits` and `labels` must have the same shape, received ((None, 32, 32, 3) vs (None, 512, 512, 3)).\n",
     "output_type": "error",
     "traceback": [
      "\u001b[0;31m---------------------------------------------------------------------------\u001b[0m",
      "\u001b[0;31mValueError\u001b[0m                                Traceback (most recent call last)",
      "\u001b[0;32m/tmp/ipykernel_8128/2966192426.py\u001b[0m in \u001b[0;36m<module>\u001b[0;34m\u001b[0m\n\u001b[0;32m----> 1\u001b[0;31m encoded = encoder.fit(train_img, mask_img,epochs=20,\n\u001b[0m\u001b[1;32m      2\u001b[0m                     validation_data=(val_img,val_img))\n",
      "\u001b[0;32m~/.local/lib/python3.10/site-packages/keras/utils/traceback_utils.py\u001b[0m in \u001b[0;36merror_handler\u001b[0;34m(*args, **kwargs)\u001b[0m\n\u001b[1;32m     68\u001b[0m             \u001b[0;31m# To get the full stack trace, call:\u001b[0m\u001b[0;34m\u001b[0m\u001b[0;34m\u001b[0m\u001b[0m\n\u001b[1;32m     69\u001b[0m             \u001b[0;31m# `tf.debugging.disable_traceback_filtering()`\u001b[0m\u001b[0;34m\u001b[0m\u001b[0;34m\u001b[0m\u001b[0m\n\u001b[0;32m---> 70\u001b[0;31m             \u001b[0;32mraise\u001b[0m \u001b[0me\u001b[0m\u001b[0;34m.\u001b[0m\u001b[0mwith_traceback\u001b[0m\u001b[0;34m(\u001b[0m\u001b[0mfiltered_tb\u001b[0m\u001b[0;34m)\u001b[0m \u001b[0;32mfrom\u001b[0m \u001b[0;32mNone\u001b[0m\u001b[0;34m\u001b[0m\u001b[0;34m\u001b[0m\u001b[0m\n\u001b[0m\u001b[1;32m     71\u001b[0m         \u001b[0;32mfinally\u001b[0m\u001b[0;34m:\u001b[0m\u001b[0;34m\u001b[0m\u001b[0;34m\u001b[0m\u001b[0m\n\u001b[1;32m     72\u001b[0m             \u001b[0;32mdel\u001b[0m \u001b[0mfiltered_tb\u001b[0m\u001b[0;34m\u001b[0m\u001b[0;34m\u001b[0m\u001b[0m\n",
      "\u001b[0;32m~/.local/lib/python3.10/site-packages/keras/engine/training.py\u001b[0m in \u001b[0;36mtf__train_function\u001b[0;34m(iterator)\u001b[0m\n\u001b[1;32m     13\u001b[0m                 \u001b[0;32mtry\u001b[0m\u001b[0;34m:\u001b[0m\u001b[0;34m\u001b[0m\u001b[0;34m\u001b[0m\u001b[0m\n\u001b[1;32m     14\u001b[0m                     \u001b[0mdo_return\u001b[0m \u001b[0;34m=\u001b[0m \u001b[0;32mTrue\u001b[0m\u001b[0;34m\u001b[0m\u001b[0;34m\u001b[0m\u001b[0m\n\u001b[0;32m---> 15\u001b[0;31m                     \u001b[0mretval_\u001b[0m \u001b[0;34m=\u001b[0m \u001b[0mag__\u001b[0m\u001b[0;34m.\u001b[0m\u001b[0mconverted_call\u001b[0m\u001b[0;34m(\u001b[0m\u001b[0mag__\u001b[0m\u001b[0;34m.\u001b[0m\u001b[0mld\u001b[0m\u001b[0;34m(\u001b[0m\u001b[0mstep_function\u001b[0m\u001b[0;34m)\u001b[0m\u001b[0;34m,\u001b[0m \u001b[0;34m(\u001b[0m\u001b[0mag__\u001b[0m\u001b[0;34m.\u001b[0m\u001b[0mld\u001b[0m\u001b[0;34m(\u001b[0m\u001b[0mself\u001b[0m\u001b[0;34m)\u001b[0m\u001b[0;34m,\u001b[0m \u001b[0mag__\u001b[0m\u001b[0;34m.\u001b[0m\u001b[0mld\u001b[0m\u001b[0;34m(\u001b[0m\u001b[0miterator\u001b[0m\u001b[0;34m)\u001b[0m\u001b[0;34m)\u001b[0m\u001b[0;34m,\u001b[0m \u001b[0;32mNone\u001b[0m\u001b[0;34m,\u001b[0m \u001b[0mfscope\u001b[0m\u001b[0;34m)\u001b[0m\u001b[0;34m\u001b[0m\u001b[0;34m\u001b[0m\u001b[0m\n\u001b[0m\u001b[1;32m     16\u001b[0m                 \u001b[0;32mexcept\u001b[0m\u001b[0;34m:\u001b[0m\u001b[0;34m\u001b[0m\u001b[0;34m\u001b[0m\u001b[0m\n\u001b[1;32m     17\u001b[0m                     \u001b[0mdo_return\u001b[0m \u001b[0;34m=\u001b[0m \u001b[0;32mFalse\u001b[0m\u001b[0;34m\u001b[0m\u001b[0;34m\u001b[0m\u001b[0m\n",
      "\u001b[0;31mValueError\u001b[0m: in user code:\n\n    File \"/home/smhasg/.local/lib/python3.10/site-packages/keras/engine/training.py\", line 1249, in train_function  *\n        return step_function(self, iterator)\n    File \"/home/smhasg/.local/lib/python3.10/site-packages/keras/engine/training.py\", line 1233, in step_function  **\n        outputs = model.distribute_strategy.run(run_step, args=(data,))\n    File \"/home/smhasg/.local/lib/python3.10/site-packages/keras/engine/training.py\", line 1222, in run_step  **\n        outputs = model.train_step(data)\n    File \"/home/smhasg/.local/lib/python3.10/site-packages/keras/engine/training.py\", line 1024, in train_step\n        loss = self.compute_loss(x, y, y_pred, sample_weight)\n    File \"/home/smhasg/.local/lib/python3.10/site-packages/keras/engine/training.py\", line 1082, in compute_loss\n        return self.compiled_loss(\n    File \"/home/smhasg/.local/lib/python3.10/site-packages/keras/engine/compile_utils.py\", line 265, in __call__\n        loss_value = loss_obj(y_t, y_p, sample_weight=sw)\n    File \"/home/smhasg/.local/lib/python3.10/site-packages/keras/losses.py\", line 152, in __call__\n        losses = call_fn(y_true, y_pred)\n    File \"/home/smhasg/.local/lib/python3.10/site-packages/keras/losses.py\", line 284, in call  **\n        return ag_fn(y_true, y_pred, **self._fn_kwargs)\n    File \"/home/smhasg/.local/lib/python3.10/site-packages/keras/losses.py\", line 2176, in binary_crossentropy\n        backend.binary_crossentropy(y_true, y_pred, from_logits=from_logits),\n    File \"/home/smhasg/.local/lib/python3.10/site-packages/keras/backend.py\", line 5680, in binary_crossentropy\n        return tf.nn.sigmoid_cross_entropy_with_logits(\n\n    ValueError: `logits` and `labels` must have the same shape, received ((None, 32, 32, 3) vs (None, 512, 512, 3)).\n"
     ]
    }
   ],
   "source": [
    "encoded = encoder.fit(train_img, mask_img,epochs=20,\n",
    "                    validation_data=(val_img,val_img))"
   ]
  },
  {
   "cell_type": "code",
   "execution_count": 24,
   "metadata": {},
   "outputs": [],
   "source": [
    "# !pip install keras-segmentation"
   ]
  },
  {
   "cell_type": "code",
   "execution_count": 16,
   "metadata": {},
   "outputs": [],
   "source": [
    "clf = keras.Sequential()"
   ]
  },
  {
   "cell_type": "code",
   "execution_count": 25,
   "metadata": {},
   "outputs": [
    {
     "data": {
      "text/plain": [
       "<KerasTensor: shape=(None, 512, 512, 3) dtype=float32 (created by layer 'sequential')>"
      ]
     },
     "execution_count": 25,
     "metadata": {},
     "output_type": "execute_result"
    }
   ],
   "source": [
    "clf(input ,x )"
   ]
  },
  {
   "cell_type": "code",
   "execution_count": 26,
   "metadata": {},
   "outputs": [],
   "source": [
    "clf.compile(optimizer='adam',loss='mse')\n"
   ]
  },
  {
   "cell_type": "code",
   "execution_count": 19,
   "metadata": {},
   "outputs": [
    {
     "data": {
      "text/plain": [
       "dtype('float32')"
      ]
     },
     "execution_count": 19,
     "metadata": {},
     "output_type": "execute_result"
    }
   ],
   "source": [
    "train_img.dtype"
   ]
  },
  {
   "cell_type": "code",
   "execution_count": 27,
   "metadata": {},
   "outputs": [
    {
     "name": "stdout",
     "output_type": "stream",
     "text": [
      "Epoch 1/10\n"
     ]
    },
    {
     "name": "stderr",
     "output_type": "stream",
     "text": [
      "2023-02-08 22:51:27.615157: W tensorflow/tsl/framework/cpu_allocator_impl.cc:82] Allocation of 314572800 exceeds 10% of free system memory.\n",
      "2023-02-08 22:51:27.872792: W tensorflow/tsl/framework/cpu_allocator_impl.cc:82] Allocation of 314572800 exceeds 10% of free system memory.\n"
     ]
    },
    {
     "name": "stdout",
     "output_type": "stream",
     "text": [
      "4/4 [==============================] - 1s 99ms/step - loss: 0.4460\n",
      "Epoch 2/10\n",
      "4/4 [==============================] - 1s 154ms/step - loss: 0.4460\n",
      "Epoch 3/10\n",
      "4/4 [==============================] - 1s 121ms/step - loss: 0.4460\n",
      "Epoch 4/10\n",
      "4/4 [==============================] - 0s 101ms/step - loss: 0.4460\n",
      "Epoch 5/10\n",
      "4/4 [==============================] - 1s 115ms/step - loss: 0.4460\n",
      "Epoch 6/10\n",
      "4/4 [==============================] - 0s 101ms/step - loss: 0.4460\n",
      "Epoch 7/10\n",
      "4/4 [==============================] - 1s 144ms/step - loss: 0.4460\n",
      "Epoch 8/10\n",
      "4/4 [==============================] - 1s 129ms/step - loss: 0.4460\n",
      "Epoch 9/10\n",
      "4/4 [==============================] - 1s 102ms/step - loss: 0.4460\n",
      "Epoch 10/10\n",
      "4/4 [==============================] - 0s 75ms/step - loss: 0.4460\n"
     ]
    },
    {
     "data": {
      "text/plain": [
       "<keras.callbacks.History at 0x7f2c0128f490>"
      ]
     },
     "execution_count": 27,
     "metadata": {},
     "output_type": "execute_result"
    }
   ],
   "source": [
    "clf.fit(train_img,mask_img,batch_size=32,epochs=10)"
   ]
  },
  {
   "cell_type": "code",
   "execution_count": 28,
   "metadata": {},
   "outputs": [],
   "source": [
    "from keras_segmentation.models.model_utils import get_segmentation_model\n",
    "\n",
    "model = get_segmentation_model(input , x ) # this would build the segmentation model"
   ]
  },
  {
   "cell_type": "code",
   "execution_count": 31,
   "metadata": {},
   "outputs": [
    {
     "name": "stdout",
     "output_type": "stream",
     "text": [
      "Model: \"sequential\"\n",
      "_________________________________________________________________\n",
      " Layer (type)                Output Shape              Param #   \n",
      "=================================================================\n",
      "=================================================================\n",
      "Total params: 0\n",
      "Trainable params: 0\n",
      "Non-trainable params: 0\n",
      "_________________________________________________________________\n"
     ]
    }
   ],
   "source": [
    "clf.summary()"
   ]
  },
  {
   "cell_type": "code",
   "execution_count": null,
   "metadata": {},
   "outputs": [],
   "source": []
  },
  {
   "cell_type": "code",
   "execution_count": 47,
   "metadata": {},
   "outputs": [],
   "source": [
    "from tensorflow import keras \n",
    "\n",
    "input = keras.layers.Input(shape=(512, 512,3))\n",
    "\n",
    "# Encoder\n",
    "x = keras.layers.Conv2D(256, (3, 3), activation=\"relu\", padding=\"same\")(train_img)\n",
    "x = keras.layers.MaxPooling2D((2, 2), padding=\"same\")(x)\n",
    "x = keras.layers.Conv2D(32, (3, 3), activation=\"relu\", padding=\"same\")(x)\n",
    "x = keras.layers.MaxPooling2D((2, 2), padding=\"same\")(x)\n",
    "\n",
    "# Decoder\n",
    "x = keras.layers.Conv2DTranspose(32, (3, 3), strides=2, activation=\"relu\", padding=\"same\")(x)\n",
    "x = keras.layers.Conv2DTranspose(32, (3, 3), strides=2, activation=\"relu\", padding=\"same\")(x)\n",
    "x = keras.layers.Conv2D(1, (3, 3), activation=\"sigmoid\", padding=\"same\")(x)\n",
    "\n",
    "# Autoencoder\n",
    "autoencoder = keras.Model(input, x)\n",
    "autoencoder.compile(optimizer=\"adam\", loss=\"binary_crossentropy\")\n",
    "autoencoder.summary()"
   ]
  }
 ],
 "metadata": {
  "kernelspec": {
   "display_name": "Python 3 (ipykernel)",
   "language": "python",
   "name": "python3"
  },
  "language_info": {
   "codemirror_mode": {
    "name": "ipython",
    "version": 3
   },
   "file_extension": ".py",
   "mimetype": "text/x-python",
   "name": "python",
   "nbconvert_exporter": "python",
   "pygments_lexer": "ipython3",
   "version": "3.10.6"
  },
  "vscode": {
   "interpreter": {
    "hash": "916dbcbb3f70747c44a77c7bcd40155683ae19c65e1c03b4aa3499c5328201f1"
   }
  }
 },
 "nbformat": 4,
 "nbformat_minor": 2
}
